{
 "cells": [
  {
   "cell_type": "markdown",
   "id": "82122576",
   "metadata": {},
   "source": [
    "# Física Computacional. Examen 1.\n",
    "$\\text{Atzin López Tercero} $\n",
    "\n",
    "$\\text{Hecho en Python}$"
   ]
  },
  {
   "cell_type": "code",
   "execution_count": 1,
   "id": "d98682cf",
   "metadata": {},
   "outputs": [],
   "source": [
    "#importamos las paqueterías necesarias\n",
    "from pylab import *\n",
    "import numpy as np\n",
    "import matplotlib.pyplot as plt\n",
    "import random\n",
    "from numpy import array\n",
    "from numpy import *\n",
    "import math\n",
    "import time"
   ]
  },
  {
   "cell_type": "markdown",
   "id": "41cd21e6",
   "metadata": {},
   "source": [
    "Para realizar los ejercicios de este examen debe utilizar alguno de los siguientes algoritmos de integración:\n",
    "\n",
    "(a) Función Simp_3_8: $\\int_{x_0}^{x_3} f(x)dx=\\frac{3h}{8}(f_0+3f_1+3f_2+f_3)$\n",
    "\n",
    "(b) Función Bode: $\\int_{x_0}^{x_4} f(x)dx=\\frac{2h}{45}(7f_0+32f_1+12f_2+32f_3+7f_4)$"
   ]
  },
  {
   "cell_type": "markdown",
   "id": "e42ed3c4",
   "metadata": {},
   "source": [
    "Resuelva los siguientes ejercicios, explicando claramente su razonamiento.\n",
    " 1. El objetivo del siguiente problema es obtener la curva de convergencia de las integrales que se piden\n",
    "en los incisos de este problema. Para ello inicie con una partición de un segmento y vea el resultado de la integral, este primer segmento estará subdividido en 3 pedazos en el caso de Simp_3_8 o en 4 en el caso de Bode. Posteriormente divida la partición en 2 y obtenga el resultado de la integral. Repita este procedimiento de dividir la partición en 2 hasta obtener una precisiín de $10^{−4}$, es decir, que el resultado de la integral no cambie en al menos las últimas 4 cifras. Realice en cada caso una gráfica del resultado de la integral contra el número de particiones en cada caso.\n",
    "\n",
    "(a)$\\int_0^1=\\frac{dx}{1+x^2}=\\frac{\\pi}{4}$\n",
    "\n",
    "(b)$\\int_0^3=\\frac{dx}{1+x^3}$\n",
    "\n",
    "(c)$\\int_0^{0.4}=\\sin(x^2)dx$\n",
    "\n",
    "(d)$\\int_2^4\\frac{dx}{\\ln(x)}$\n",
    "\n",
    "(e)$\\int_0^2xe^{-x}dx$"
   ]
  },
  {
   "cell_type": "markdown",
   "id": "4431d212",
   "metadata": {},
   "source": [
    "Primero hagámos todo con la integral de Simpson:"
   ]
  },
  {
   "cell_type": "markdown",
   "id": "c73aea52",
   "metadata": {},
   "source": [
    "Para (a)$\\int_0^1=\\frac{dx}{1+x^2}=\\frac{\\pi}{4}$:"
   ]
  },
  {
   "cell_type": "code",
   "execution_count": 2,
   "id": "b6052ef9",
   "metadata": {},
   "outputs": [],
   "source": [
    "#Definimos la función que nos calcule la integral de Simpson\n",
    "def intSimpson(x_1,x_2,particion):\n",
    "    N=3*particion\n",
    "    x_f=linspace(x_1,x_2,N+1)\n",
    "    #Definimos el espacio entre dos puntos contiguos en la malla\n",
    "    h=x_f[1]-x_f[0]\n",
    "    f_x=zeros(len(x_f))\n",
    "    for i in range(len(f_x)):\n",
    "              f_x[i]=1/(1+x_f[i]**2)\n",
    "    #Le damos un valor incial a la integral desde el cual empezará a sumar el valor de la integral\n",
    "    integralf_x = 0 \n",
    "    #Definimos la parte del código con la que sumaremos las particiones de la integral y que vaya saltando 3 puntos\n",
    "    for i in range(0,N-1,3):\n",
    "        integralf_x += (f_x[i]+3*f_x[i+1]+3*f_x[i+2]+f_x[i+3])*(3*h/8)\n",
    "    return integralf_x "
   ]
  },
  {
   "cell_type": "code",
   "execution_count": 3,
   "id": "84d10b4d",
   "metadata": {},
   "outputs": [
    {
     "name": "stdout",
     "output_type": "stream",
     "text": [
      "La integral de Simpson de $f(x)$ es  0.7853981633974244\n",
      "La precisión de la integral es:  2.3869795029440866e-14\n"
     ]
    }
   ],
   "source": [
    "print(\"La integral de Simpson de $f(x)$ es \",intSimpson(0,1,37))\n",
    "#Dicha integral, hecha en wolfram tiene el valor de :\n",
    "a1=intSimpson(0,1,37)\n",
    "m=0.7853981633974483\n",
    "#Obtenemos el error asociado a la integral, segun la integral de wolfram\n",
    "print(\"La precisión de la integral es: \", abs(m-intSimpson(0,1,37)))"
   ]
  },
  {
   "cell_type": "code",
   "execution_count": 4,
   "id": "9c3aa2b3",
   "metadata": {},
   "outputs": [
    {
     "name": "stdout",
     "output_type": "stream",
     "text": [
      "La integral de Simpson de $f(x)$ es  0.7853981633956479\n",
      "La precisión de la integral es:  1.8003376567321538e-12\n"
     ]
    }
   ],
   "source": [
    "print(\"La integral de Simpson de $f(x)$ es \",intSimpson(0,1,18))\n",
    "a2=intSimpson(0,1,18)\n",
    "#Dicha integral, hecha en wolfram tiene el valor de :\n",
    "m=0.7853981633974483\n",
    "#Obtenemos el error asociado a la integral, segun la integral de wolfram\n",
    "print(\"La precisión de la integral es: \", abs(m-intSimpson(0,1,18)))\n"
   ]
  },
  {
   "cell_type": "code",
   "execution_count": 5,
   "id": "c6493513",
   "metadata": {},
   "outputs": [
    {
     "name": "stdout",
     "output_type": "stream",
     "text": [
      "La integral de Simpson de $f(x)$ es  0.7853981632822257\n",
      "La precisión de la integral es:  1.1522260923158001e-10\n"
     ]
    }
   ],
   "source": [
    "print(\"La integral de Simpson de $f(x)$ es \",intSimpson(0,1,9))\n",
    "#Dicha integral, hecha en wolfram tiene el valor de :\n",
    "m=0.7853981633974483\n",
    "a3=intSimpson(0,1,9)\n",
    "#Obtenemos el error asociado a la integral, segun la integral de wolfram\n",
    "print(\"La precisión de la integral es: \", abs(m-intSimpson(0,1,9)))"
   ]
  },
  {
   "cell_type": "code",
   "execution_count": 6,
   "id": "1d9361e1",
   "metadata": {},
   "outputs": [
    {
     "name": "stdout",
     "output_type": "stream",
     "text": [
      "La integral de Simpson de $f(x)$ es  0.7853981484697944\n",
      "La precisión de la integral es:  1.4927653890772774e-08\n"
     ]
    }
   ],
   "source": [
    "print(\"La integral de Simpson de $f(x)$ es \",intSimpson(0,1,4))\n",
    "#Dicha integral, hecha en wolfram tiene el valor de :\n",
    "m=0.7853981633974483\n",
    "a4=intSimpson(0,1,4)\n",
    "#Obtenemos el error asociado a la integral, segun la integral de wolfram\n",
    "print(\"La precisión de la integral es: \", abs(m-intSimpson(0,1,4)))"
   ]
  },
  {
   "cell_type": "code",
   "execution_count": 7,
   "id": "5e805c70",
   "metadata": {},
   "outputs": [
    {
     "name": "stdout",
     "output_type": "stream",
     "text": [
      "La integral de Simpson de $f(x)$ es  0.7853958624450428\n",
      "La precisión de la integral es:  2.3009524054984354e-06\n"
     ]
    }
   ],
   "source": [
    "print(\"La integral de Simpson de $f(x)$ es \",intSimpson(0,1,2))\n",
    "#Dicha integral, hecha en wolfram tiene el valor de :\n",
    "m=0.7853981633974483\n",
    "a5=intSimpson(0,1,2)\n",
    "#Obtenemos el error asociado a la integral, segun la integral de wolfram\n",
    "print(\"La precisión de la integral es: \", abs(m-intSimpson(0,1,2)))"
   ]
  },
  {
   "cell_type": "markdown",
   "id": "e19342fc",
   "metadata": {},
   "source": [
    "Ahora vamos a graficar el valor de la integral vs N:"
   ]
  },
  {
   "cell_type": "code",
   "execution_count": 64,
   "id": "e4f2f10b",
   "metadata": {},
   "outputs": [
    {
     "data": {
      "image/png": "[encoded data removed]",
      "text/plain": [
       "<Figure size 432x288 with 1 Axes>"
      ]
     },
     "metadata": {
      "needs_background": "light"
     },
     "output_type": "display_data"
    }
   ],
   "source": [
    "x=[a3,a4,a5]\n",
    "y=[9,4,2]\n",
    "plot(y,x)\n",
    "title(\"Convergencia\"),xlabel(\"N\"),ylabel('x')\n",
    "grid()\n",
    "show()\n"
   ]
  },
  {
   "cell_type": "markdown",
   "id": "3a0f4f2d",
   "metadata": {},
   "source": [
    "Para (b)$\\int_0^3=\\frac{dx}{1+x^3}$:"
   ]
  },
  {
   "cell_type": "code",
   "execution_count": 9,
   "id": "d381a9cf",
   "metadata": {},
   "outputs": [],
   "source": [
    "#Definimos la función que nos calcule la integral de Simpson\n",
    "def intSimpson(x_1,x_2,particion):\n",
    "    N=3*particion\n",
    "    x_f=linspace(x_1,x_2,N+1)\n",
    "    #Definimos el espacio entre dos puntos contiguos en la malla\n",
    "    h=x_f[1]-x_f[0]\n",
    "    f_x=zeros(len(x_f))\n",
    "    for i in range(len(f_x)):\n",
    "              f_x[i]=1/(1+x_f[i]**3)\n",
    "    #Le damos un valor incial a la integral desde el cual empezará a sumar el valor de la integral\n",
    "    integralf_x = 0 \n",
    "    #Definimos la parte del código con la que sumaremos las particiones de la integral y que vaya saltando 3 puntos\n",
    "    for i in range(0,N-1,3):\n",
    "        integralf_x += (f_x[i]+3*f_x[i+1]+3*f_x[i+2]+f_x[i+3])*(3*h/8)\n",
    "    return integralf_x "
   ]
  },
  {
   "cell_type": "code",
   "execution_count": 10,
   "id": "529f525d",
   "metadata": {},
   "outputs": [
    {
     "name": "stdout",
     "output_type": "stream",
     "text": [
      "La integral de Simpson de $f(x)$ es  1.154448552158055\n",
      "La precisión de la integral es:  3.957161198719916e-08\n"
     ]
    }
   ],
   "source": [
    "print(\"La integral de Simpson de $f(x)$ es \",intSimpson(0,3,37))\n",
    "#Dicha integral, hecha en wolfram tiene el valor de :\n",
    "m=1.154448512586443\n",
    "#Obtenemos el error asociado a la integral, segun la integral de wolfram\n",
    "print(\"La precisión de la integral es: \", abs(m-intSimpson(0,3,37)))\n",
    "b1=intSimpson(0,3,37)"
   ]
  },
  {
   "cell_type": "code",
   "execution_count": 11,
   "id": "0a9c320d",
   "metadata": {},
   "outputs": [
    {
     "name": "stdout",
     "output_type": "stream",
     "text": [
      "La integral de Simpson de $f(x)$ es  1.1544492190683189\n",
      "La precisión de la integral es:  7.064818758895086e-07\n"
     ]
    }
   ],
   "source": [
    "print(\"La integral de Simpson de $f(x)$ es \",intSimpson(0,3,18))\n",
    "#Dicha integral, hecha en wolfram tiene el valor de :\n",
    "m=1.154448512586443\n",
    "#Obtenemos el error asociado a la integral, segun la integral de wolfram\n",
    "print(\"La precisión de la integral es: \", abs(m-intSimpson(0,3,18)))\n",
    "b2=intSimpson(0,3,18)"
   ]
  },
  {
   "cell_type": "code",
   "execution_count": 12,
   "id": "ad212055",
   "metadata": {},
   "outputs": [
    {
     "name": "stdout",
     "output_type": "stream",
     "text": [
      "La integral de Simpson de $f(x)$ es  1.1544598393033714\n",
      "La precisión de la integral es:  1.1326716928383718e-05\n"
     ]
    }
   ],
   "source": [
    "print(\"La integral de Simpson de $f(x)$ es \",intSimpson(0,3,9))\n",
    "#Dicha integral, hecha en wolfram tiene el valor de :\n",
    "m=1.154448512586443\n",
    "#Obtenemos el error asociado a la integral, segun la integral de wolfram\n",
    "print(\"La precisión de la integral es: \", abs(m-intSimpson(0,3,9)))\n",
    "b3=intSimpson(0,3,9)"
   ]
  },
  {
   "cell_type": "markdown",
   "id": "66c29083",
   "metadata": {},
   "source": [
    "Ahora vamos a graficar el valor de la integral vs N:"
   ]
  },
  {
   "cell_type": "code",
   "execution_count": 13,
   "id": "6ee69648",
   "metadata": {},
   "outputs": [
    {
     "data": {
      "image/png": "[encoded data removed]",
      "text/plain": [
       "<Figure size 432x288 with 1 Axes>"
      ]
     },
     "metadata": {
      "needs_background": "light"
     },
     "output_type": "display_data"
    }
   ],
   "source": [
    "x=[b1,b2,b3]\n",
    "y=[37,18,9]\n",
    "plot(y,x)\n",
    "title(\"Convergencia\"),xlabel(\"N\"),ylabel('x')\n",
    "grid()\n",
    "show()"
   ]
  },
  {
   "cell_type": "markdown",
   "id": "40067ad4",
   "metadata": {},
   "source": [
    "Para (c)$\\int_0^{0.4}=\\sin(x^2)dx$:"
   ]
  },
  {
   "cell_type": "code",
   "execution_count": 14,
   "id": "be893ba9",
   "metadata": {},
   "outputs": [],
   "source": [
    "#Definimos la función que nos calcule la integral de Simpson\n",
    "def intSimpson(x_1,x_2,particion):\n",
    "    N=3*particion\n",
    "    x_f=linspace(x_1,x_2,N+1)\n",
    "    #Definimos el espacio entre dos puntos contiguos en la malla\n",
    "    h=x_f[1]-x_f[0]\n",
    "    f_x=zeros(len(x_f))\n",
    "    for i in range(len(f_x)):\n",
    "              f_x[i]=sin(x_f[i]**2)\n",
    "    #Le damos un valor incial a la integral desde el cual empezará a sumar el valor de la integral\n",
    "    integralf_x = 0 \n",
    "    #Definimos la parte del código con la que sumaremos las particiones de la integral y que vaya saltando 3 puntos\n",
    "    for i in range(0,N-1,3):\n",
    "        integralf_x += (f_x[i]+3*f_x[i+1]+3*f_x[i+2]+f_x[i+3])*(3*h/8)\n",
    "    return integralf_x "
   ]
  },
  {
   "cell_type": "code",
   "execution_count": 15,
   "id": "678a41f1",
   "metadata": {},
   "outputs": [
    {
     "name": "stdout",
     "output_type": "stream",
     "text": [
      "La integral de Simpson de $f(x)$ es  0.021294355567677982\n",
      "La precisión de la integral es:  2.6771779237932947e-12\n"
     ]
    }
   ],
   "source": [
    "print(\"La integral de Simpson de $f(x)$ es \",intSimpson(0,0.4,37))\n",
    "#Dicha integral, hecha en wolfram tiene el valor de :\n",
    "m=0.02129435557035516\n",
    "#Obtenemos el error asociado a la integral, segun la integral de wolfram\n",
    "print(\"La precisión de la integral es: \", abs(m-intSimpson(0,0.4,37)))\n",
    "c1=intSimpson(0,0.4,37)"
   ]
  },
  {
   "cell_type": "code",
   "execution_count": 16,
   "id": "ed8a5978",
   "metadata": {},
   "outputs": [
    {
     "name": "stdout",
     "output_type": "stream",
     "text": [
      "La integral de Simpson de $f(x)$ es  0.02129435552257586\n",
      "La precisión de la integral es:  4.777930134869379e-11\n"
     ]
    }
   ],
   "source": [
    "print(\"La integral de Simpson de $f(x)$ es \",intSimpson(0,0.4,18))\n",
    "#Dicha integral, hecha en wolfram tiene el valor de :\n",
    "m=0.02129435557035516\n",
    "#Obtenemos el error asociado a la integral, segun la integral de wolfram\n",
    "print(\"La precisión de la integral es: \", abs(m-intSimpson(0,0.4,18)))\n",
    "c2=intSimpson(0,0.4,18)"
   ]
  },
  {
   "cell_type": "code",
   "execution_count": 17,
   "id": "88a9a5b1",
   "metadata": {},
   "outputs": [
    {
     "name": "stdout",
     "output_type": "stream",
     "text": [
      "La integral de Simpson de $f(x)$ es  0.02129435480695886\n",
      "La precisión de la integral es:  7.633963010345024e-10\n"
     ]
    }
   ],
   "source": [
    "print(\"La integral de Simpson de $f(x)$ es \",intSimpson(0,0.4,9))\n",
    "#Dicha integral, hecha en wolfram tiene el valor de :\n",
    "m=0.02129435557035516\n",
    "#Obtenemos el error asociado a la integral, segun la integral de wolfram\n",
    "print(\"La precisión de la integral es: \", abs(m-intSimpson(0,0.4,9)))\n",
    "c3=intSimpson(0,0.4,9)"
   ]
  },
  {
   "cell_type": "code",
   "execution_count": 18,
   "id": "cef87301",
   "metadata": {},
   "outputs": [
    {
     "name": "stdout",
     "output_type": "stream",
     "text": [
      "La integral de Simpson de $f(x)$ es  0.02129433615449561\n",
      "La precisión de la integral es:  1.9415859548593817e-08\n"
     ]
    }
   ],
   "source": [
    "print(\"La integral de Simpson de $f(x)$ es \",intSimpson(0,0.4,4))\n",
    "#Dicha integral, hecha en wolfram tiene el valor de :\n",
    "m=0.02129435557035516\n",
    "#Obtenemos el error asociado a la integral, segun la integral de wolfram\n",
    "print(\"La precisión de la integral es: \", abs(m-intSimpson(0,0.4,4)))\n",
    "c4=intSimpson(0,0.4,4)"
   ]
  },
  {
   "cell_type": "code",
   "execution_count": 19,
   "id": "5138e291",
   "metadata": {},
   "outputs": [
    {
     "name": "stdout",
     "output_type": "stream",
     "text": [
      "La integral de Simpson de $f(x)$ es  0.021294053895258912\n",
      "La precisión de la integral es:  3.0167509624742794e-07\n"
     ]
    }
   ],
   "source": [
    "print(\"La integral de Simpson de $f(x)$ es \",intSimpson(0,0.4,2))\n",
    "#Dicha integral, hecha en wolfram tiene el valor de :\n",
    "m=0.02129435557035516\n",
    "#Obtenemos el error asociado a la integral, segun la integral de wolfram\n",
    "print(\"La precisión de la integral es: \", abs(m-intSimpson(0,0.4,2)))\n",
    "c5=intSimpson(0,0.4,2)"
   ]
  },
  {
   "cell_type": "markdown",
   "id": "2875d875",
   "metadata": {},
   "source": [
    "Ahora vamos a graficar el valor de la integral vs N:"
   ]
  },
  {
   "cell_type": "code",
   "execution_count": 20,
   "id": "f924fb87",
   "metadata": {},
   "outputs": [
    {
     "data": {
      "image/png": "[encoded data removed]",
      "text/plain": [
       "<Figure size 432x288 with 1 Axes>"
      ]
     },
     "metadata": {
      "needs_background": "light"
     },
     "output_type": "display_data"
    }
   ],
   "source": [
    "x=[c1,c2,c3,c4,c5]\n",
    "y=[37,18,9,4,2]\n",
    "plot(y,x)\n",
    "title(\"Convergencia\"),xlabel(\"N\"),ylabel('x')\n",
    "grid()\n",
    "show()"
   ]
  },
  {
   "cell_type": "markdown",
   "id": "9d4f1fa9",
   "metadata": {},
   "source": [
    "Para (d)$\\int_2^4\\frac{dx}{\\ln(x)}$:"
   ]
  },
  {
   "cell_type": "code",
   "execution_count": 21,
   "id": "50d27021",
   "metadata": {},
   "outputs": [],
   "source": [
    "#Definimos la función que nos calcule la integral de Simpson\n",
    "def intSimpson(x_1,x_2,particion):\n",
    "    N=3*particion\n",
    "    x_f=linspace(x_1,x_2,N+1)\n",
    "    #Definimos el espacio entre dos puntos contiguos en la malla\n",
    "    h=x_f[1]-x_f[0]\n",
    "    f_x=zeros(len(x_f))\n",
    "    for i in range(len(f_x)):\n",
    "              f_x[i]=1/(log(x_f[i]))\n",
    "    #Le damos un valor incial a la integral desde el cual empezará a sumar el valor de la integral\n",
    "    integralf_x = 0 \n",
    "    #Definimos la parte del código con la que sumaremos las particiones de la integral y que vaya saltando 3 puntos\n",
    "    for i in range(0,N-1,3):\n",
    "        integralf_x += (f_x[i]+3*f_x[i+1]+3*f_x[i+2]+f_x[i+3])*(3*h/8)\n",
    "    return integralf_x "
   ]
  },
  {
   "cell_type": "code",
   "execution_count": 22,
   "id": "225097a4",
   "metadata": {},
   "outputs": [
    {
     "name": "stdout",
     "output_type": "stream",
     "text": [
      "La integral de Simpson de $f(x)$ es  1.9224234960105497\n",
      "La precisión de la integral es:  2.181088991637381e-06\n"
     ]
    }
   ],
   "source": [
    "print(\"La integral de Simpson de $f(x)$ es \",intSimpson(2,4,9))\n",
    "#Dicha integral, hecha en wolfram tiene el valor de :\n",
    "m=1.922421314921558\n",
    "#Obtenemos el error asociado a la integral, segun la integral de wolfram\n",
    "print(\"La precisión de la integral es: \", abs(m-intSimpson(2,4,9)))\n",
    "d1=intSimpson(2,4,9)"
   ]
  },
  {
   "cell_type": "code",
   "execution_count": 23,
   "id": "ea11ddda",
   "metadata": {},
   "outputs": [
    {
     "name": "stdout",
     "output_type": "stream",
     "text": [
      "La integral de Simpson de $f(x)$ es  1.922443064999103\n",
      "La precisión de la integral es:  5.1143137783205006e-05\n"
     ]
    }
   ],
   "source": [
    "print(\"La integral de Simpson de $f(x)$ es \",intSimpson(2,4,5))\n",
    "#Dicha integral, hecha en wolfram tiene el valor de :\n",
    "m=1.922421314921558\n",
    "#Obtenemos el error asociado a la integral, segun la integral de wolfram\n",
    "print(\"La precisión de la integral es: \", abs(m-intSimpson(2,4,4)))\n",
    "d2=intSimpson(2,4,5)"
   ]
  },
  {
   "cell_type": "code",
   "execution_count": 24,
   "id": "a1e43eda",
   "metadata": {},
   "outputs": [
    {
     "name": "stdout",
     "output_type": "stream",
     "text": [
      "La integral de Simpson de $f(x)$ es  1.923067664508844\n",
      "La precisión de la integral es:  0.0006463495872859326\n"
     ]
    }
   ],
   "source": [
    "print(\"La integral de Simpson de $f(x)$ es \",intSimpson(2,4,2))\n",
    "#Dicha integral, hecha en wolfram tiene el valor de :\n",
    "m=1.922421314921558\n",
    "#Obtenemos el error asociado a la integral, segun la integral de wolfram\n",
    "print(\"La precisión de la integral es: \", abs(m-intSimpson(2,4,2)))\n",
    "d3=intSimpson(2,4,2)"
   ]
  },
  {
   "cell_type": "markdown",
   "id": "de6afb36",
   "metadata": {},
   "source": [
    "Ahora vamos a graficar el valor de la integral vs N:"
   ]
  },
  {
   "cell_type": "code",
   "execution_count": 25,
   "id": "58c10195",
   "metadata": {},
   "outputs": [
    {
     "data": {
      "image/png": "[encoded data removed]",
      "text/plain": [
       "<Figure size 432x288 with 1 Axes>"
      ]
     },
     "metadata": {
      "needs_background": "light"
     },
     "output_type": "display_data"
    }
   ],
   "source": [
    "x=[d1,d2,d3]\n",
    "y=[9,5,2]\n",
    "plot(y,x)\n",
    "title(\"Convergencia\"),xlabel(\"N\"),ylabel('x')\n",
    "grid()\n",
    "show()"
   ]
  },
  {
   "cell_type": "markdown",
   "id": "7ff20d7a",
   "metadata": {},
   "source": [
    "Para (e)$\\int_0^2xe^{-x}dx$:"
   ]
  },
  {
   "cell_type": "code",
   "execution_count": 26,
   "id": "ccf9a8ef",
   "metadata": {},
   "outputs": [],
   "source": [
    "def intSimpson(x_1,x_2,particion):\n",
    "    N=3*particion\n",
    "    x_f=linspace(x_1,x_2,N+1)\n",
    "    #Definimos el espacio entre dos puntos contiguos en la malla\n",
    "    h=x_f[1]-x_f[0]\n",
    "    f_x=zeros(len(x_f))\n",
    "    for i in range(len(f_x)):\n",
    "              f_x[i]=x_f[i]*exp(-x_f[i])\n",
    "    #Le damos un valor incial a la integral desde el cual empezará a sumar el valor de la integral\n",
    "    integralf_x = 0 \n",
    "    #Definimos la parte del código con la que sumaremos las particiones de la integral y que vaya saltando 3 puntos\n",
    "    for i in range(0,N-1,3):\n",
    "        integralf_x += (f_x[i]+3*f_x[i+1]+3*f_x[i+2]+f_x[i+3])*(3*h/8)\n",
    "    return integralf_x "
   ]
  },
  {
   "cell_type": "code",
   "execution_count": 27,
   "id": "3bbc4126",
   "metadata": {},
   "outputs": [
    {
     "name": "stdout",
     "output_type": "stream",
     "text": [
      "La integral de Simpson de $f(x)$ es  0.5939930744705239\n",
      "La precisión de la integral es:  1.0758196380411533e-06\n"
     ]
    }
   ],
   "source": [
    "print(\"La integral de Simpson de $f(x)$ es \",intSimpson(0,2,9))\n",
    "#Dicha integral, hecha en wolfram tiene el valor de :\n",
    "m=0.5939941502901619\n",
    "#Obtenemos el error asociado a la integral, segun la integral de wolfram\n",
    "print(\"La precisión de la integral es: \", abs(m-intSimpson(0,2,9)))\n",
    "e1=intSimpson(0,2,9)"
   ]
  },
  {
   "cell_type": "code",
   "execution_count": 28,
   "id": "1064f05a",
   "metadata": {},
   "outputs": [
    {
     "name": "stdout",
     "output_type": "stream",
     "text": [
      "La integral de Simpson de $f(x)$ es  0.5939668109447583\n",
      "La precisión de la integral es:  2.7339345403554205e-05\n"
     ]
    }
   ],
   "source": [
    "print(\"La integral de Simpson de $f(x)$ es \",intSimpson(0,2,4))\n",
    "#Dicha integral, hecha en wolfram tiene el valor de :\n",
    "m=0.5939941502901619\n",
    "#Obtenemos el error asociado a la integral, segun la integral de wolfram\n",
    "print(\"La precisión de la integral es: \", abs(m-intSimpson(0,2,4)))\n",
    "e2=intSimpson(0,2,4)"
   ]
  },
  {
   "cell_type": "code",
   "execution_count": 29,
   "id": "077a8823",
   "metadata": {},
   "outputs": [
    {
     "name": "stdout",
     "output_type": "stream",
     "text": [
      "La integral de Simpson de $f(x)$ es  0.5935701955132249\n",
      "La precisión de la integral es:  0.0004239547769370189\n"
     ]
    }
   ],
   "source": [
    "print(\"La integral de Simpson de $f(x)$ es \",intSimpson(0,2,2))\n",
    "#Dicha integral, hecha en wolfram tiene el valor de :\n",
    "m=0.5939941502901619\n",
    "#Obtenemos el error asociado a la integral, segun la integral de wolfram\n",
    "print(\"La precisión de la integral es: \", abs(m-intSimpson(0,2,2)))\n",
    "e3=intSimpson(0,2,2)"
   ]
  },
  {
   "cell_type": "markdown",
   "id": "f337c637",
   "metadata": {},
   "source": [
    "Ahora vamos a graficar el valor de la integral vs N:"
   ]
  },
  {
   "cell_type": "code",
   "execution_count": 30,
   "id": "68bc4b81",
   "metadata": {},
   "outputs": [
    {
     "data": {
      "image/png": "[encoded data removed]",
      "text/plain": [
       "<Figure size 432x288 with 1 Axes>"
      ]
     },
     "metadata": {
      "needs_background": "light"
     },
     "output_type": "display_data"
    }
   ],
   "source": [
    "x=[e1,e2,e3]\n",
    "y=[18,9,4]\n",
    "plot(y,x)\n",
    "title(\"Convergencia\"),xlabel(\"N\"),ylabel('x')\n",
    "grid()\n",
    "show()"
   ]
  },
  {
   "cell_type": "markdown",
   "id": "6ed2f6b5",
   "metadata": {},
   "source": [
    "Ahora lo hacemos con el algoritmo de Bode:"
   ]
  },
  {
   "cell_type": "markdown",
   "id": "5735842a",
   "metadata": {},
   "source": [
    "Para (a)$\\int_0^1=\\frac{dx}{1+x^2}=\\frac{\\pi}{4}$:"
   ]
  },
  {
   "cell_type": "code",
   "execution_count": 31,
   "id": "ba4d44d2",
   "metadata": {},
   "outputs": [],
   "source": [
    "#Definimos la función que nos calcule la integral de Bode\n",
    "def intBode(x_1,x_2,particion):\n",
    "    N_2=4*particion\n",
    "    x_f=linspace(x_1,x_2,N_2+1)\n",
    "    #Definimos el espacio entre dos puntos contiguos en la malla\n",
    "    h=x_f[1]-x_f[0]\n",
    "    f_x=zeros(len(x_f))\n",
    "    for i in range(len(f_x)):\n",
    "              f_x[i]=1/(1+x_f[i]**2)\n",
    "    #Le damos un valor incial a la integral desde el cual empezará a sumar el valor de la integral\n",
    "    integralf_x = 0 \n",
    "    #Definimos la parte del código con la que sumaremos las particiones de la integral y que vaya saltando 3 puntos\n",
    "    for i in range(0,N_2-1,4):\n",
    "        integralf_x +=(7*f_x[i]+32*f_x[i+1]+12*f_x[i+2]+32*f_x[i+3]+7*f_x[i+4])*(2*h/45)\n",
    "    return integralf_x "
   ]
  },
  {
   "cell_type": "code",
   "execution_count": 32,
   "id": "6f15d969",
   "metadata": {},
   "outputs": [
    {
     "name": "stdout",
     "output_type": "stream",
     "text": [
      "La integral de Simpson de $f(x)$ es  0.7853981633974514\n",
      "La precisión de la integral es:  3.1086244689504383e-15\n"
     ]
    }
   ],
   "source": [
    "print(\"La integral de Simpson de $f(x)$ es \",intBode(0,1,37))\n",
    "#Dicha integral, hecha en wolfram tiene el valor de :\n",
    "m=0.7853981633974483\n",
    "#Obtenemos el error asociado a la integral, segun la integral de wolfram\n",
    "print(\"La precisión de la integral es: \", abs(m-intBode(0,1,37)))\n",
    "aa1=intBode(0,1,37)"
   ]
  },
  {
   "cell_type": "code",
   "execution_count": 33,
   "id": "65f49c09",
   "metadata": {},
   "outputs": [
    {
     "name": "stdout",
     "output_type": "stream",
     "text": [
      "La integral de Bode de $f(x)$ es  0.7853981633976761\n",
      "La precisión de la integral es:  2.278177646530821e-13\n"
     ]
    }
   ],
   "source": [
    "print(\"La integral de Bode de $f(x)$ es \",intBode(0,1,18))\n",
    "#Dicha integral, hecha en wolfram tiene el valor de :\n",
    "m=0.7853981633974483\n",
    "#Obtenemos el error asociado a la integral, segun la integral de wolfram\n",
    "print(\"La precisión de la integral es: \", abs(m-intBode(0,1,18)))\n",
    "aa2=intBode(0,1,18)"
   ]
  },
  {
   "cell_type": "code",
   "execution_count": 34,
   "id": "24817392",
   "metadata": {},
   "outputs": [
    {
     "name": "stdout",
     "output_type": "stream",
     "text": [
      "La integral de Bode de $f(x)$ es  0.7853981634120307\n",
      "La precisión de la integral es:  1.4582446361544044e-11\n"
     ]
    }
   ],
   "source": [
    "print(\"La integral de Bode de $f(x)$ es \",intBode(0,1,9))\n",
    "#Dicha integral, hecha en wolfram tiene el valor de :\n",
    "m=0.7853981633974483\n",
    "#Obtenemos el error asociado a la integral, segun la integral de wolfram\n",
    "print(\"La precisión de la integral es: \", abs(m-intBode(0,1,9)))\n",
    "aa3=intBode(0,1,9)"
   ]
  },
  {
   "cell_type": "code",
   "execution_count": 35,
   "id": "d21755d1",
   "metadata": {},
   "outputs": [
    {
     "name": "stdout",
     "output_type": "stream",
     "text": [
      "La integral de Bode de $f(x)$ es  0.7853981652856409\n",
      "La precisión de la integral es:  1.888192602272909e-09\n"
     ]
    }
   ],
   "source": [
    "print(\"La integral de Bode de $f(x)$ es \",intBode(0,1,4))\n",
    "#Dicha integral, hecha en wolfram tiene el valor de :\n",
    "m=0.7853981633974483\n",
    "#Obtenemos el error asociado a la integral, segun la integral de wolfram\n",
    "print(\"La precisión de la integral es: \", abs(m-intBode(0,1,4)))\n",
    "aa4=intBode(0,1,4)"
   ]
  },
  {
   "cell_type": "code",
   "execution_count": 36,
   "id": "62b14c5a",
   "metadata": {},
   "outputs": [
    {
     "name": "stdout",
     "output_type": "stream",
     "text": [
      "La integral de Bode de $f(x)$ es  0.7853985235314722\n",
      "La precisión de la integral es:  3.601340239356432e-07\n"
     ]
    }
   ],
   "source": [
    "print(\"La integral de Bode de $f(x)$ es \",intBode(0,1,2))\n",
    "#Dicha integral, hecha en wolfram tiene el valor de :\n",
    "m=0.7853981633974483\n",
    "#Obtenemos el error asociado a la integral, segun la integral de wolfram\n",
    "print(\"La precisión de la integral es: \", abs(m-intBode(0,1,2)))\n",
    "aa5=intBode(0,1,2)"
   ]
  },
  {
   "cell_type": "markdown",
   "id": "e75eb56e",
   "metadata": {},
   "source": [
    "Ahora vamos a graficar el valor de la integral vs N:"
   ]
  },
  {
   "cell_type": "code",
   "execution_count": 37,
   "id": "ea81c4a9",
   "metadata": {},
   "outputs": [
    {
     "data": {
      "image/png": "[encoded data removed]",
      "text/plain": [
       "<Figure size 432x288 with 1 Axes>"
      ]
     },
     "metadata": {
      "needs_background": "light"
     },
     "output_type": "display_data"
    }
   ],
   "source": [
    "x=[aa1,aa2,aa3,aa4,aa5]\n",
    "y=[37,18,9,4,2]\n",
    "plot(y,x)\n",
    "title(\"Convergencia\"),xlabel(\"N\"),ylabel('x')\n",
    "grid()\n",
    "show()"
   ]
  },
  {
   "cell_type": "markdown",
   "id": "35470d57",
   "metadata": {},
   "source": [
    "Para (b)$\\int_0^3=\\frac{dx}{1+x^3}$:"
   ]
  },
  {
   "cell_type": "code",
   "execution_count": 38,
   "id": "3e04511b",
   "metadata": {},
   "outputs": [],
   "source": [
    "#Definimos la función que nos calcule la integral de Bode\n",
    "def intBode(x_1,x_2,particion):\n",
    "    N_2=4*particion\n",
    "    x_f=linspace(x_1,x_2,N_2+1)\n",
    "    #Definimos el espacio entre dos puntos contiguos en la malla\n",
    "    h=x_f[1]-x_f[0]\n",
    "    f_x=zeros(len(x_f))\n",
    "    for i in range(len(f_x)):\n",
    "              f_x[i]=1/(1+x_f[i]**3)\n",
    "    #Le damos un valor incial a la integral desde el cual empezará a sumar el valor de la integral\n",
    "    integralf_x = 0 \n",
    "    #Definimos la parte del código con la que sumaremos las particiones de la integral y que vaya saltando 3 puntos\n",
    "    for i in range(0,N_2-1,4):\n",
    "        integralf_x +=(7*f_x[i]+32*f_x[i+1]+12*f_x[i+2]+32*f_x[i+3]+7*f_x[i+4])*(2*h/45)\n",
    "    return integralf_x "
   ]
  },
  {
   "cell_type": "code",
   "execution_count": 39,
   "id": "6aa13f1b",
   "metadata": {},
   "outputs": [
    {
     "name": "stdout",
     "output_type": "stream",
     "text": [
      "La integral de Bode de $f(x)$ es  1.154448512586502\n",
      "La precisión de la integral es:  5.906386491005833e-14\n"
     ]
    }
   ],
   "source": [
    "print(\"La integral de Bode de $f(x)$ es \",intBode(0,3,18))\n",
    "#Dicha integral, hecha en wolfram tiene el valor de :\n",
    "m=1.154448512586443\n",
    "#Obtenemos el error asociado a la integral, segun la integral de wolfram\n",
    "print(\"La precisión de la integral es: \", abs(m-intBode(0,3,18)))\n",
    "bb1=intBode(0,3,18)"
   ]
  },
  {
   "cell_type": "code",
   "execution_count": 40,
   "id": "3c7b8438",
   "metadata": {},
   "outputs": [
    {
     "name": "stdout",
     "output_type": "stream",
     "text": [
      "La integral de Bode de $f(x)$ es  1.1544485084949332\n",
      "La precisión de la integral es:  4.091509797632398e-09\n"
     ]
    }
   ],
   "source": [
    "print(\"La integral de Bode de $f(x)$ es \",intBode(0,3,9))\n",
    "#Dicha integral, hecha en wolfram tiene el valor de :\n",
    "m=1.154448512586443\n",
    "#Obtenemos el error asociado a la integral, segun la integral de wolfram\n",
    "print(\"La precisión de la integral es: \", abs(m-intBode(0,3,9)))\n",
    "bb2=intBode(0,3,9)"
   ]
  },
  {
   "cell_type": "code",
   "execution_count": 41,
   "id": "bd41694f",
   "metadata": {},
   "outputs": [
    {
     "name": "stdout",
     "output_type": "stream",
     "text": [
      "La integral de Bode de $f(x)$ es  1.1543949477187112\n",
      "La precisión de la integral es:  5.356486773178126e-05\n"
     ]
    }
   ],
   "source": [
    "print(\"La integral de Bode de $f(x)$ es \",intBode(0,3,4))\n",
    "#Dicha integral, hecha en wolfram tiene el valor de :\n",
    "m=1.154448512586443\n",
    "#Obtenemos el error asociado a la integral, segun la integral de wolfram\n",
    "print(\"La precisión de la integral es: \", abs(m-intBode(0,3,4)))\n",
    "bb3=intBode(0,3,4)"
   ]
  },
  {
   "cell_type": "markdown",
   "id": "2397a396",
   "metadata": {},
   "source": [
    "Ahora vamos a graficar el valor de la integral vs N:"
   ]
  },
  {
   "cell_type": "code",
   "execution_count": 42,
   "id": "2fdfad35",
   "metadata": {},
   "outputs": [
    {
     "data": {
      "image/png": "[encoded data removed]",
      "text/plain": [
       "<Figure size 432x288 with 1 Axes>"
      ]
     },
     "metadata": {
      "needs_background": "light"
     },
     "output_type": "display_data"
    }
   ],
   "source": [
    "x=[bb1,bb2,bb3]\n",
    "y=[18,9,4]\n",
    "plot(y,x)\n",
    "title(\"Convergencia\"),xlabel(\"N\"),ylabel('x')\n",
    "grid()\n",
    "show()"
   ]
  },
  {
   "cell_type": "markdown",
   "id": "c6da8909",
   "metadata": {},
   "source": [
    "Para (c)$\\int_0^{0.4}=\\sin(x^2)dx$:"
   ]
  },
  {
   "cell_type": "code",
   "execution_count": 43,
   "id": "bcf6fc54",
   "metadata": {},
   "outputs": [],
   "source": [
    "#Definimos la función que nos calcule la integral de Bode\n",
    "def intBode(x_1,x_2,particion):\n",
    "    N_2=4*particion\n",
    "    x_f=linspace(x_1,x_2,N_2+1)\n",
    "    #Definimos el espacio entre dos puntos contiguos en la malla\n",
    "    h=x_f[1]-x_f[0]\n",
    "    f_x=zeros(len(x_f))\n",
    "    for i in range(len(f_x)):\n",
    "              f_x[i]=sin(x_f[i]**2)\n",
    "    #Le damos un valor incial a la integral desde el cual empezará a sumar el valor de la integral\n",
    "    integralf_x = 0 \n",
    "    #Definimos la parte del código con la que sumaremos las particiones de la integral y que vaya saltando 3 puntos\n",
    "    for i in range(0,N_2-1,4):\n",
    "        integralf_x +=(7*f_x[i]+32*f_x[i+1]+12*f_x[i+2]+32*f_x[i+3]+7*f_x[i+4])*(2*h/45)\n",
    "    return integralf_x "
   ]
  },
  {
   "cell_type": "code",
   "execution_count": 44,
   "id": "8567e6e1",
   "metadata": {},
   "outputs": [
    {
     "name": "stdout",
     "output_type": "stream",
     "text": [
      "La integral de Bode de $f(x)$ es  0.02129435557035234\n",
      "La precisión de la integral es:  2.8206603719382883e-15\n"
     ]
    }
   ],
   "source": [
    "print(\"La integral de Bode de $f(x)$ es \",intBode(0,0.4,18))\n",
    "#Dicha integral, hecha en wolfram tiene el valor de :\n",
    "m=0.02129435557035516\n",
    "#Obtenemos el error asociado a la integral, segun la integral de wolfram\n",
    "print(\"La precisión de la integral es: \", abs(m-intBode(0,0.4,18)))\n",
    "cc1=intBode(0,0.4,18)"
   ]
  },
  {
   "cell_type": "code",
   "execution_count": 45,
   "id": "bf6cced9",
   "metadata": {},
   "outputs": [
    {
     "name": "stdout",
     "output_type": "stream",
     "text": [
      "La integral de Bode de $f(x)$ es  0.021294355570174155\n",
      "La precisión de la integral es:  1.81004516930372e-13\n"
     ]
    }
   ],
   "source": [
    "print(\"La integral de Bode de $f(x)$ es \",intBode(0,0.4,9))\n",
    "#Dicha integral, hecha en wolfram tiene el valor de :\n",
    "m=0.02129435557035516\n",
    "#Obtenemos el error asociado a la integral, segun la integral de wolfram\n",
    "print(\"La precisión de la integral es: \", abs(m-intBode(0,0.4,9)))\n",
    "cc2=intBode(0,0.4,9)"
   ]
  },
  {
   "cell_type": "code",
   "execution_count": 46,
   "id": "8d409668",
   "metadata": {},
   "outputs": [
    {
     "name": "stdout",
     "output_type": "stream",
     "text": [
      "La integral de Bode de $f(x)$ es  0.021294355546827213\n",
      "La precisión de la integral es:  2.3527946951817924e-11\n"
     ]
    }
   ],
   "source": [
    "print(\"La integral de Bode de $f(x)$ es \",intBode(0,0.4,4))\n",
    "#Dicha integral, hecha en wolfram tiene el valor de :\n",
    "m=0.02129435557035516\n",
    "#Obtenemos el error asociado a la integral, segun la integral de wolfram\n",
    "print(\"La precisión de la integral es: \", abs(m-intBode(0,0.4,4)))\n",
    "cc3=intBode(0,0.4,4)"
   ]
  },
  {
   "cell_type": "code",
   "execution_count": 47,
   "id": "61f4b21e",
   "metadata": {},
   "outputs": [
    {
     "name": "stdout",
     "output_type": "stream",
     "text": [
      "La integral de Bode de $f(x)$ es  0.02129435543793079\n",
      "La precisión de la integral es:  1.3242437008065266e-10\n"
     ]
    }
   ],
   "source": [
    "print(\"La integral de Bode de $f(x)$ es \",intBode(0,0.4,3))\n",
    "#Dicha integral, hecha en wolfram tiene el valor de :\n",
    "m=0.02129435557035516\n",
    "#Obtenemos el error asociado a la integral, segun la integral de wolfram\n",
    "print(\"La precisión de la integral es: \", abs(m-intBode(0,0.4,3)))\n",
    "cc4=intBode(0,0.4,3)"
   ]
  },
  {
   "cell_type": "markdown",
   "id": "2bc1a947",
   "metadata": {},
   "source": [
    "Ahora vamos a graficar el valor de la integral vs N:"
   ]
  },
  {
   "cell_type": "code",
   "execution_count": 48,
   "id": "7ebeb19f",
   "metadata": {},
   "outputs": [
    {
     "data": {
      "image/png": "[encoded data removed]",
      "text/plain": [
       "<Figure size 432x288 with 1 Axes>"
      ]
     },
     "metadata": {
      "needs_background": "light"
     },
     "output_type": "display_data"
    }
   ],
   "source": [
    "x=[cc1,cc2,cc3,cc4]\n",
    "y=[18,9,4,3]\n",
    "plot(y,x)\n",
    "title(\"Convergencia\"),xlabel(\"N\"),ylabel('x')\n",
    "grid()\n",
    "show()"
   ]
  },
  {
   "cell_type": "markdown",
   "id": "f47788e8",
   "metadata": {},
   "source": [
    "Para (d)$\\int_2^4\\frac{dx}{\\ln(x)}$:"
   ]
  },
  {
   "cell_type": "code",
   "execution_count": 49,
   "id": "def9a32c",
   "metadata": {},
   "outputs": [],
   "source": [
    "#Definimos la función que nos calcule la integral de Bode\n",
    "def intBode(x_1,x_2,particion):\n",
    "    N_2=4*particion\n",
    "    x_f=linspace(x_1,x_2,N_2+1)\n",
    "    #Definimos el espacio entre dos puntos contiguos en la malla\n",
    "    h=x_f[1]-x_f[0]\n",
    "    f_x=zeros(len(x_f))\n",
    "    for i in range(len(f_x)):\n",
    "              f_x[i]=1/(log(x_f[i]))\n",
    "    #Le damos un valor incial a la integral desde el cual empezará a sumar el valor de la integral\n",
    "    integralf_x = 0 \n",
    "    #Definimos la parte del código con la que sumaremos las particiones de la integral y que vaya saltando 3 puntos\n",
    "    for i in range(0,N_2-1,4):\n",
    "        integralf_x +=(7*f_x[i]+32*f_x[i+1]+12*f_x[i+2]+32*f_x[i+3]+7*f_x[i+4])*(2*h/45)\n",
    "    return integralf_x "
   ]
  },
  {
   "cell_type": "code",
   "execution_count": 50,
   "id": "12758da1",
   "metadata": {},
   "outputs": [
    {
     "name": "stdout",
     "output_type": "stream",
     "text": [
      "La integral de Bode de $f(x)$ es  1.922421321916581\n",
      "La precisión de la integral es:  6.9950230052739926e-09\n"
     ]
    }
   ],
   "source": [
    "print(\"La integral de Bode de $f(x)$ es \",intBode(2,4,9))\n",
    "#Dicha integral, hecha en wolfram tiene el valor de :\n",
    "m=1.922421314921558\n",
    "#Obtenemos el error asociado a la integral, segun la integral de wolfram\n",
    "print(\"La precisión de la integral es: \", abs(m-intBode(2,4,9)))\n",
    "dd1=intBode(2,4,9)"
   ]
  },
  {
   "cell_type": "code",
   "execution_count": 51,
   "id": "ebcbdbfa",
   "metadata": {},
   "outputs": [
    {
     "name": "stdout",
     "output_type": "stream",
     "text": [
      "La integral de Bode de $f(x)$ es  1.9224215249799872\n",
      "La precisión de la integral es:  2.100584290953833e-07\n"
     ]
    }
   ],
   "source": [
    "print(\"La integral de Bode de $f(x)$ es \",intBode(2,4,5))\n",
    "#Dicha integral, hecha en wolfram tiene el valor de :\n",
    "m=1.922421314921558\n",
    "#Obtenemos el error asociado a la integral, segun la integral de wolfram\n",
    "print(\"La precisión de la integral es: \", abs(m-intBode(2,4,5)))\n",
    "dd2=intBode(2,4,5)"
   ]
  },
  {
   "cell_type": "code",
   "execution_count": 52,
   "id": "c3fe511e",
   "metadata": {},
   "outputs": [
    {
     "name": "stdout",
     "output_type": "stream",
     "text": [
      "La integral de Bode de $f(x)$ es  1.9224494231532145\n",
      "La precisión de la integral es:  2.810823165644294e-05\n"
     ]
    }
   ],
   "source": [
    "print(\"La integral de Bode de $f(x)$ es \",intBode(2,4,2))\n",
    "#Dicha integral, hecha en wolfram tiene el valor de :\n",
    "m=1.922421314921558\n",
    "#Obtenemos el error asociado a la integral, segun la integral de wolfram\n",
    "print(\"La precisión de la integral es: \", abs(m-intBode(2,4,2)))\n",
    "dd3=intBode(2,4,2)"
   ]
  },
  {
   "cell_type": "markdown",
   "id": "93d03a6e",
   "metadata": {},
   "source": [
    "Ahora vamos a graficar el valor de la integral vs N:"
   ]
  },
  {
   "cell_type": "code",
   "execution_count": 53,
   "id": "490353be",
   "metadata": {},
   "outputs": [
    {
     "data": {
      "image/png": "[encoded data removed]",
      "text/plain": [
       "<Figure size 432x288 with 1 Axes>"
      ]
     },
     "metadata": {
      "needs_background": "light"
     },
     "output_type": "display_data"
    }
   ],
   "source": [
    "x=[dd1,dd2,dd3]\n",
    "y=[9,5,2]\n",
    "plot(y,x)\n",
    "title(\"Convergencia\"),xlabel(\"N\"),ylabel('x')\n",
    "grid()\n",
    "show()"
   ]
  },
  {
   "cell_type": "markdown",
   "id": "5ad234ae",
   "metadata": {},
   "source": [
    "Para (e)$\\int_0^2xe^{-x}dx$:"
   ]
  },
  {
   "cell_type": "code",
   "execution_count": 54,
   "id": "2051649b",
   "metadata": {},
   "outputs": [],
   "source": [
    "#Definimos la función que nos calcule la integral de Bode\n",
    "def intBode(x_1,x_2,particion):\n",
    "    N_2=4*particion\n",
    "    x_f=linspace(x_1,x_2,N_2+1)\n",
    "    #Definimos el espacio entre dos puntos contiguos en la malla\n",
    "    h=x_f[1]-x_f[0]\n",
    "    f_x=zeros(len(x_f))\n",
    "    for i in range(len(f_x)):\n",
    "              f_x[i]=x_f[i]*exp(-x_f[i])\n",
    "    #Le damos un valor incial a la integral desde el cual empezará a sumar el valor de la integral\n",
    "    integralf_x = 0 \n",
    "    #Definimos la parte del código con la que sumaremos las particiones de la integral y que vaya saltando 3 puntos\n",
    "    for i in range(0,N_2-1,4):\n",
    "        integralf_x +=(7*f_x[i]+32*f_x[i+1]+12*f_x[i+2]+32*f_x[i+3]+7*f_x[i+4])*(2*h/45)\n",
    "    return integralf_x "
   ]
  },
  {
   "cell_type": "code",
   "execution_count": 55,
   "id": "0cf29b6d",
   "metadata": {},
   "outputs": [
    {
     "name": "stdout",
     "output_type": "stream",
     "text": [
      "La integral de Bode de $f(x)$ es  0.5939941500049383\n",
      "La precisión de la integral es:  2.8522362249816524e-10\n"
     ]
    }
   ],
   "source": [
    "print(\"La integral de Bode de $f(x)$ es \",intBode(0,2,9))\n",
    "#Dicha integral, hecha en wolfram tiene el valor de :\n",
    "m=0.5939941502901619\n",
    "#Obtenemos el error asociado a la integral, segun la integral de wolfram\n",
    "print(\"La precisión de la integral es: \", abs(m-intBode(0,2,9)))\n",
    "ee1=intBode(0,2,9)"
   ]
  },
  {
   "cell_type": "code",
   "execution_count": 56,
   "id": "5c87c4a0",
   "metadata": {},
   "outputs": [
    {
     "name": "stdout",
     "output_type": "stream",
     "text": [
      "La integral de Bode de $f(x)$ es  0.5939941136160839\n",
      "La precisión de la integral es:  3.667407799667899e-08\n"
     ]
    }
   ],
   "source": [
    "print(\"La integral de Bode de $f(x)$ es \",intBode(0,2,4))\n",
    "#Dicha integral, hecha en wolfram tiene el valor de :\n",
    "m=0.5939941502901619\n",
    "#Obtenemos el error asociado a la integral, segun la integral de wolfram\n",
    "print(\"La precisión de la integral es: \", abs(m-intBode(0,2,4)))\n",
    "ee2=intBode(0,2,4)"
   ]
  },
  {
   "cell_type": "code",
   "execution_count": 57,
   "id": "098504fb",
   "metadata": {},
   "outputs": [
    {
     "name": "stdout",
     "output_type": "stream",
     "text": [
      "La integral de Bode de $f(x)$ es  0.5939918802294271\n",
      "La precisión de la integral es:  2.270060734832491e-06\n"
     ]
    }
   ],
   "source": [
    "print(\"La integral de Bode de $f(x)$ es \",intBode(0,2,2))\n",
    "#Dicha integral, hecha en wolfram tiene el valor de :\n",
    "m=0.5939941502901619\n",
    "#Obtenemos el error asociado a la integral, segun la integral de wolfram\n",
    "print(\"La precisión de la integral es: \", abs(m-intBode(0,2,2)))\n",
    "ee3=intBode(0,2,2)"
   ]
  },
  {
   "cell_type": "markdown",
   "id": "52f86138",
   "metadata": {},
   "source": [
    "Ahora vamos a graficar el valor de la integral vs N:"
   ]
  },
  {
   "cell_type": "code",
   "execution_count": 58,
   "id": "e430fd44",
   "metadata": {},
   "outputs": [
    {
     "data": {
      "image/png": "[encoded data removed]",
      "text/plain": [
       "<Figure size 432x288 with 1 Axes>"
      ]
     },
     "metadata": {
      "needs_background": "light"
     },
     "output_type": "display_data"
    }
   ],
   "source": [
    "x=[ee1,ee2,ee3]\n",
    "y=[9,4,2]\n",
    "plot(y,x)\n",
    "title(\"Convergencia\"),xlabel(\"N\"),ylabel('x')\n",
    "grid()\n",
    "show()"
   ]
  },
  {
   "cell_type": "markdown",
   "id": "53665cce",
   "metadata": {},
   "source": [
    "Dado que estos métodos numéricos de integración forman una especie de base, el método converge en N iteraciones. Sin embargo, en la presencia de errores de redondeo esta afirmación no se sostiene; además, en la práctica N puede ser muy grande, y el proceso iterativo alcanza una precisión suficiente mucho antes. "
   ]
  },
  {
   "cell_type": "markdown",
   "id": "beac7fd4",
   "metadata": {},
   "source": [
    " 2. Sabemos que la definiciÓon de la funciÓn Logaritmo es $\\int_1^x\\frac{dt}{t}=\\ln(x)$. Construya una función que calcule\n",
    "la función Logaritmo utilizando la definición de la integral. El cálculo de la integral debe tener una precisión de al menos $10^{−4}$. Para corroborar los resultados, realice la gr´afica de $\\ln(x)$ en el intervalo $[0.1, 1000]$ y compare contra la funci´on que viene en Python. Tu función debe llamarse mi_ln(x) y debe calcular r el valor o los valores de x independientemente si la entrada es un n´umero o el un arreglo de números.\n",
    "\n"
   ]
  },
  {
   "cell_type": "code",
   "execution_count": 59,
   "id": "1c69d3aa",
   "metadata": {},
   "outputs": [
    {
     "data": {
      "image/png": "[encoded data removed]",
      "text/plain": [
       "<Figure size 432x288 with 1 Axes>"
      ]
     },
     "metadata": {
      "needs_background": "light"
     },
     "output_type": "display_data"
    }
   ],
   "source": [
    "x=linspace(0.1,1000,500)\n",
    "plot(x,log(x),label=\"Gráfica del logaritmo natural de Python\")\n",
    "legend(),grid()\n",
    "show()"
   ]
  },
  {
   "cell_type": "code",
   "execution_count": 147,
   "id": "d731c69f",
   "metadata": {},
   "outputs": [],
   "source": [
    "def mi_ln(f,x1,x2,N):\n",
    "  p = linspace(x1,x2,(4*N)+1)\n",
    "  h = p[1]-p[0]\n",
    "  integral= 0\n",
    "  for i in range(0,len(p)-1,4):\n",
    "    integral += (2*h/45)*(7*f(p[i])+32*f(p[i+1])+12*f(p[i+2])+32*f(p[i+3])+7*f(p[i+4]))\n",
    "  return integral"
   ]
  },
  {
   "cell_type": "code",
   "execution_count": 148,
   "id": "367b0530",
   "metadata": {},
   "outputs": [],
   "source": [
    "def mi_ln2(x,N=10):\n",
    "  def f(t):\n",
    "    return 1/t\n",
    "  x2=x\n",
    "  return mi_ln(f,1,x2,1000)"
   ]
  },
  {
   "cell_type": "code",
   "execution_count": 153,
   "id": "749df504",
   "metadata": {},
   "outputs": [
    {
     "data": {
      "image/png": "[encoded data removed]",
      "text/plain": [
       "<Figure size 432x288 with 1 Axes>"
      ]
     },
     "metadata": {
      "needs_background": "light"
     },
     "output_type": "display_data"
    }
   ],
   "source": [
    "x=linspace(0.1,1000)\n",
    "plot(x,log(x),label='Función de Python')\n",
    "plot(x,mi_ln2(x), '--', label='mi_ln')\n",
    "title(\"Comparación de funciones\"),xlabel(\"x\"),ylabel('y')\n",
    "legend(),grid()\n",
    "show()"
   ]
  }
 ],
 "metadata": {
  "kernelspec": {
   "display_name": "Python 3 (ipykernel)",
   "language": "python",
   "name": "python3"
  },
  "language_info": {
   "codemirror_mode": {
    "name": "ipython",
    "version": 3
   },
   "file_extension": ".py",
   "mimetype": "text/x-python",
   "name": "python",
   "nbconvert_exporter": "python",
   "pygments_lexer": "ipython3",
   "version": "3.9.12"
  }
 },
 "nbformat": 4,
 "nbformat_minor": 5
}
