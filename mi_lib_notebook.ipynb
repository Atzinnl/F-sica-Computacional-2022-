{
 "cells": [
  {
   "cell_type": "code",
   "execution_count": 1,
   "id": "bbef4dbd",
   "metadata": {},
   "outputs": [],
   "source": [
    "from pylab import *"
   ]
  },
  {
   "cell_type": "code",
   "execution_count": 2,
   "id": "9b29dfe8",
   "metadata": {},
   "outputs": [],
   "source": [
    "def RK4(f , t_intervalo , y0 , delta=0.01):\n",
    "    t = arange(t_intervalo[0],t_intervalo[1]+delta,delta)\n",
    "    sol = zeros((len(y0),len(t)))\n",
    "    sol[:,0] = y0\n",
    "    for i in range(len(t)-1):\n",
    "        k1 = f( t[i] , sol[:,i] )\n",
    "        k2 = f( t[i] + 0.5*delta , sol[:,i] + 0.5*delta*k1 )\n",
    "        k3 = f( t[i] + 0.5*delta , sol[:,i] + 0.5*delta*k2 )\n",
    "        k4 = f( t[i] + delta , sol[:,i] + delta*k3 )\n",
    "        sol[:,i+1] = sol[:,i] + (delta/6)*(k1 + 2*k2 + 2*k3 + k4)\n",
    "    return (t,sol)"
   ]
  },
  {
   "cell_type": "code",
   "execution_count": 3,
   "id": "b711dfd6",
   "metadata": {},
   "outputs": [
    {
     "name": "stdout",
     "output_type": "stream",
     "text": [
      "Biblioteca importada 😀\n"
     ]
    }
   ],
   "source": [
    "print('Biblioteca importada \\U0001f600')"
   ]
  }
 ],
 "metadata": {
  "kernelspec": {
   "display_name": "Python 3 (ipykernel)",
   "language": "python",
   "name": "python3"
  },
  "language_info": {
   "codemirror_mode": {
    "name": "ipython",
    "version": 3
   },
   "file_extension": ".py",
   "mimetype": "text/x-python",
   "name": "python",
   "nbconvert_exporter": "python",
   "pygments_lexer": "ipython3",
   "version": "3.9.12"
  }
 },
 "nbformat": 4,
 "nbformat_minor": 5
}
